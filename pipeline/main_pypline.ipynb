{
 "cells": [
  {
   "cell_type": "code",
   "execution_count": 2,
   "metadata": {},
   "outputs": [],
   "source": [
    "import pandas as pd\n",
    "import re\n",
    "from transformers import AutoTokenizer, AutoModel\n",
    "import torch\n",
    "from scipy import spatial\n",
    "from pandas import read_pickle\n",
    "from sklearn.feature_extraction.text import TfidfVectorizer\n",
    "\n",
    "\n",
    "\n",
    "data = pd.read_csv('../data/post.csv').dropna()\n",
    "data = data[['telegram_id', 'text']]"
   ]
  },
  {
   "cell_type": "code",
   "execution_count": 3,
   "metadata": {},
   "outputs": [],
   "source": [
    "def word_finder(text: str) -> int:\n",
    "    return len(re.sub(r'\\w*\\d+\\w*', ' ', text).split())\n",
    "\n",
    "\n",
    "def only_smile(text: str) -> int:\n",
    "    del_words = re.sub(r'\\w', '', text)\n",
    "    del_symbols = len((re.sub(r\"[~.,?!{}#%№+$^&*:\"\"+/{};|]\", '', del_words)).split())\n",
    "    return del_symbols\n",
    "\n",
    "\n",
    "for index in data.index:\n",
    "    text = data.loc[index, 'text']\n",
    "    word_count = word_finder(text)  # Нашли кол-во слов\n",
    "    sign_count = len(re.findall(r'!', text))  # Нашли кол-во знаков '!'\n",
    "    smile_count = only_smile(text)  # Нашли кол-во смайлов\n",
    "    data.loc[index, ['word_count', 'sign_count', 'smile_count']] = [word_count, sign_count, smile_count]\n",
    "\n",
    "\n",
    "def symbols_rm(text : str):\n",
    "    try:\n",
    "        text = re.sub(r\"http://\\S+|https://\\S+\", \"\", text)\n",
    "        text = re.sub(r'([^\\s\\w])', '', text).lower()\n",
    "        text = re.sub(r'\\w*\\d+\\w*', ' ', text).strip()\n",
    "        text = re.sub('\\s+', ' ', text)\n",
    "        return re.sub(r'\\n', '', text)\n",
    "    except TypeError:\n",
    "        print(\"Error with cleaning this text. Nan, perhaps?\")\n",
    "\n",
    "\n",
    "data[\"text\"] = data[\"text\"].apply(symbols_rm)"
   ]
  },
  {
   "cell_type": "code",
   "execution_count": 4,
   "metadata": {},
   "outputs": [],
   "source": [
    "data = data[:2000]"
   ]
  },
  {
   "cell_type": "code",
   "execution_count": 5,
   "metadata": {},
   "outputs": [],
   "source": [
    "data['emb'] = ''\n",
    "\n",
    "\n",
    "tokenizer = AutoTokenizer.from_pretrained(\"../HF_cache/tokenizer/\", max_len=512)\n",
    "model = AutoModel.from_pretrained(\"../HF_cache/model/\", num_labels=29)\n",
    "\n",
    "def embed_bert_cls(text, model, tokenizer):\n",
    "    t = tokenizer(text, padding=True, truncation=True, return_tensors='pt')\n",
    "    with torch.no_grad():\n",
    "        model_output = model(**{k: v.to(model.device) for k, v in t.items()})\n",
    "    embeddings = model_output.last_hidden_state[:, 0, :]\n",
    "    embeddings = torch.nn.functional.normalize(embeddings)\n",
    "    return embeddings[0].cpu().numpy()\n",
    "\n",
    "data['emb'] = data[\"text\"].apply(lambda x: embed_bert_cls(x, model, tokenizer))"
   ]
  },
  {
   "cell_type": "code",
   "execution_count": null,
   "metadata": {},
   "outputs": [],
   "source": [
    "def spatial_distance(vector1, vector2):\n",
    "    return spatial.distance.cosine(vector1, vector2)\n",
    "\n",
    "to_rm = []\n",
    "\n",
    "for i in range(1, len(data)-1):\n",
    "    for j in range(i+1, len(data)):\n",
    "        if spatial_distance(data['emb'].iloc[i], data['emb'].iloc[j]) < 0.05:\n",
    "            to_rm.append(data[\"text\"].iloc[[i, j]].index.values)\n",
    "\n",
    "for pair in to_rm:\n",
    "    if len(data[\"text\"][pair[0]]) >= len(data[\"text\"][pair[1]]):\n",
    "        data.drop(pair[0], axis = 0)\n",
    "    else:\n",
    "        data.drop(pair[1], axis = 0)\n",
    "\n",
    "data = data.dropna()\n",
    "data[\"sign_count\"] = data[\"sign_count\"].apply(lambda x: int(x))\n"
   ]
  },
  {
   "cell_type": "code",
   "execution_count": null,
   "metadata": {},
   "outputs": [],
   "source": [
    "t_id = data['telegram_id'].values\n",
    "data = data.drop('telegram_id', axis = 1)"
   ]
  },
  {
   "cell_type": "code",
   "execution_count": null,
   "metadata": {},
   "outputs": [],
   "source": [
    "from catboost import CatBoostClassifier\n",
    "\n",
    "model = read_pickle(\"../models/catboost_model.pkl\")\n",
    "\n",
    "preds = model.predict(data)\n",
    "data['label'] = preds\n",
    "data = data.drop(['emb', 'word_count', 'sign_count', 'smile_count'], axis = 1)\n",
    "data['telegram_id'] = t_id\n"
   ]
  },
  {
   "cell_type": "code",
   "execution_count": null,
   "metadata": {},
   "outputs": [],
   "source": [
    "data"
   ]
  },
  {
   "cell_type": "code",
   "execution_count": null,
   "metadata": {},
   "outputs": [],
   "source": [
    "data.to_csv(\"predict.csv\")"
   ]
  }
 ],
 "metadata": {
  "kernelspec": {
   "display_name": ".venv",
   "language": "python",
   "name": "python3"
  },
  "language_info": {
   "codemirror_mode": {
    "name": "ipython",
    "version": 3
   },
   "file_extension": ".py",
   "mimetype": "text/x-python",
   "name": "python",
   "nbconvert_exporter": "python",
   "pygments_lexer": "ipython3",
   "version": "3.9.7"
  },
  "orig_nbformat": 4
 },
 "nbformat": 4,
 "nbformat_minor": 2
}
